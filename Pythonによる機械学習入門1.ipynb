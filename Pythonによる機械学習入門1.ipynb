{
 "cells": [
  {
   "cell_type": "markdown",
   "metadata": {},
   "source": [
    "# Pythonによる機械学習入門"
   ]
  },
  {
   "cell_type": "markdown",
   "metadata": {},
   "source": [
    "以下のリンクからスクリプトをダウンロードできます。  \n",
    "コードはこのページにコピペ済みですが、元のpyファイルが欲しい方はどうぞ。  \n",
    "後半でスクリプトやデータが必須になりますが、とりあえずは用意しなくても結構です。  \n",
    "[Pythonによる機械学習入門](http://www.ohmsha.co.jp/data/link/978-4-274-21963-4/)"
   ]
  },
  {
   "cell_type": "markdown",
   "metadata": {},
   "source": [
    "## 第1章 はじめに\n",
    "## 1.1 機械学習とは\n",
    "機械学習とは、機械による学習を実現しようとする技術です。  \n",
    "データから反復的に学習し、そこに潜むパターンを見つけ出します。  \n",
    "パターン認識(手書き文字の認識など)に広く使われています。"
   ]
  },
  {
   "cell_type": "markdown",
   "metadata": {},
   "source": [
    "## 1.4 Python早わかり-Numpyとmatplotlib\n",
    "## 1.4.1 NumPy\n",
    "NumPyはPythonの科学技術計算パッケージで、線形代数、フーリエ変換や乱数など、高等数学の計算を容易に行うことができます。  \n",
    "ここではNumPyの配列の扱い方を学びます。"
   ]
  },
  {
   "cell_type": "code",
   "execution_count": null,
   "metadata": {
    "collapsed": true
   },
   "outputs": [],
   "source": [
    "# 各方程式を設定するためにNumPyをインポート\n",
    "import numpy as np"
   ]
  },
  {
   "cell_type": "markdown",
   "metadata": {},
   "source": [
    "### NumPy配列の生成"
   ]
  },
  {
   "cell_type": "code",
   "execution_count": null,
   "metadata": {
    "collapsed": false
   },
   "outputs": [],
   "source": [
    "np.zeros((2,3)) # np.zeros(shape, dtype=None)"
   ]
  },
  {
   "cell_type": "code",
   "execution_count": null,
   "metadata": {
    "collapsed": false
   },
   "outputs": [],
   "source": [
    "a = np.zeros((2,3)) # np.zeros(shape, dtype=None)\n",
    "print(a)"
   ]
  },
  {
   "cell_type": "code",
   "execution_count": null,
   "metadata": {
    "collapsed": false
   },
   "outputs": [],
   "source": [
    "np.ones((3,2), dtype=np.int32)"
   ]
  },
  {
   "cell_type": "code",
   "execution_count": null,
   "metadata": {
    "collapsed": false
   },
   "outputs": [],
   "source": [
    "b = np.ones((3,2), dtype=np.int32)\n",
    "print(b)"
   ]
  },
  {
   "cell_type": "code",
   "execution_count": null,
   "metadata": {
    "collapsed": false
   },
   "outputs": [],
   "source": [
    "c = np.array([[1,2,3],[4,5,6]])\n",
    "print(c)"
   ]
  },
  {
   "cell_type": "markdown",
   "metadata": {},
   "source": [
    "### NumPy配列の計算"
   ]
  },
  {
   "cell_type": "code",
   "execution_count": null,
   "metadata": {
    "collapsed": false
   },
   "outputs": [],
   "source": [
    "a + a"
   ]
  },
  {
   "cell_type": "code",
   "execution_count": null,
   "metadata": {
    "collapsed": false
   },
   "outputs": [],
   "source": [
    "c * 2"
   ]
  },
  {
   "cell_type": "code",
   "execution_count": null,
   "metadata": {
    "collapsed": false
   },
   "outputs": [],
   "source": [
    "# aは2×3行列、bは3×2行列なので足し算できない\n",
    "print(a.shape)\n",
    "print(b.shape)\n",
    "\n",
    "print(a + b) # 計算不能のためエラーが起こる"
   ]
  },
  {
   "cell_type": "code",
   "execution_count": null,
   "metadata": {
    "collapsed": false
   },
   "outputs": [],
   "source": [
    "# aは2×3行列、bは3×2行列なので掛け算はできる\n",
    "np.dot(a, b)"
   ]
  },
  {
   "cell_type": "code",
   "execution_count": null,
   "metadata": {
    "collapsed": false
   },
   "outputs": [],
   "source": [
    "# cは2×3行列, bは3×2行列なので, bを転置させれば足し算できる\n",
    "print(c)\n",
    "print(b.T) \n",
    "print(c + b.T)"
   ]
  },
  {
   "cell_type": "markdown",
   "metadata": {},
   "source": [
    "参考になるかも  \n",
    "<http://ibisforest.org/index.php?python%2Fnumpy>"
   ]
  },
  {
   "cell_type": "markdown",
   "metadata": {},
   "source": [
    "## 1.4.2 matplotlib\n",
    "matplotlibはPythonの様々なグラフの描画を可能にするライブラリです。"
   ]
  },
  {
   "cell_type": "code",
   "execution_count": null,
   "metadata": {
    "collapsed": false
   },
   "outputs": [],
   "source": [
    "#各方程式を設定するためにNumPyをインポート\n",
    "import numpy as np\n",
    "# matplotlibのpyplotをpltでインポート\n",
    "import matplotlib.pyplot as plt\n",
    "%matplotlib inline\n",
    "\n",
    "# x軸の領域と精度を設定し、x値を用意\n",
    "x = np.arange(-3, 3, 0.1) # arange([start],stop,[step],[dtype]) []付きは省略可能, startを省略すると0から\n",
    "\n",
    "#各方程式のy値を用意\n",
    "y_sin = np.sin(x)\n",
    "x_rand = np.random.rand(100) * 6 - 3\n",
    "y_rand = np.random.rand(100) * 6 - 3\n",
    "\n",
    "# figureオブジェクトを作成\n",
    "plt.figure()\n",
    "\n",
    "# 1つのグラフで表示する設定\n",
    "plt.subplot(1, 1, 1) # subplot(行数, 列数, 何番目のプロットか)\n",
    "\n",
    "#各方程式の線形とマーカー、ラベルを設定し、プロット\n",
    "##線形図\n",
    "plt.plot(x, y_sin, marker='o', markersize=5, label='line')\n",
    "\n",
    "##散布図\n",
    "plt.scatter(x_rand, y_rand, label='scatter')\n",
    "\n",
    "#凡例表示を設定\n",
    "plt.legend()\n",
    "#グリッド線を表示\n",
    "plt.grid(True)\n",
    "\n",
    "#グラフ表示\n",
    "plt.show()"
   ]
  },
  {
   "cell_type": "markdown",
   "metadata": {},
   "source": [
    "## 1.5 クイックツアー\n",
    "###こんな課題\n",
    "機械学習の代表的な課題である「分類」、「回帰」、「クラスタリング」を手早く体験しましょう。  \n",
    "- 「分類」問題とは与えられたデータから分類（クラス）を予測する問題です。正解データから分類のルールを学び、未知のデータに対しても分類ができるようになることを目指します。\n",
    "- 「回帰」問題とは与えられたデータから数値を予測する問題です。\n",
    "- 「クラスタリング」とはデータの性質に従って、データのかたまり（クラスタ）を作る技術です。データの性質に着目し、正解を必要としません。\n",
    "\n",
    "###こんなデータ\n",
    " \n",
    "- 2次関数（$ y=x^2 $）のデータで、yの値にノイズが乗っているものを利用します。\n",
    "- 分類問題ではデータを2つのクラスに分けます。今回は原点からの距離が近い/遠いで2つに分けます。学習データと得られた分類の性能を測るためのテストデータとの分離が必要です。\n",
    "- 回帰問題では学習データとテストデータの分離のみ行います。クラス分けは不要です。\n",
    "- クラスタリングでは元データをそのまま使用します。"
   ]
  },
  {
   "cell_type": "markdown",
   "metadata": {},
   "source": [
    "### 1.5.2 データの準備"
   ]
  },
  {
   "cell_type": "code",
   "execution_count": null,
   "metadata": {
    "collapsed": false
   },
   "outputs": [],
   "source": [
    "########################################\n",
    "#### データの準備\n",
    "\n",
    "import matplotlib.pyplot as plt\n",
    "import numpy as np \n",
    "%matplotlib inline\n",
    "\n",
    "### 各種定義\n",
    "\n",
    "# x軸の定義範囲\n",
    "x_max = 1\n",
    "x_min = -1\n",
    "\n",
    "# y軸の定義範囲\n",
    "y_max = 2\n",
    "y_min = -1\n",
    "\n",
    "# スケール、１単位に何点を使うか\n",
    "SCALE = 50\n",
    "\n",
    "# train/testでTestデータの割合を指定\n",
    "TEST_RATE = 0.3\n",
    "\n",
    "\n",
    "### データ生成\n",
    "\n",
    "data_x = np.arange(x_min, x_max, 1 / float(SCALE)).reshape(-1, 1)  \n",
    "\n",
    "data_ty = data_x * data_x  # ｘ**2 がノイズが乗る前の値\n",
    "data_vy = data_ty.reshape(-1, 1) + np.random.randn(len(data_ty), 1) * 0.5  # ノイズを乗せる\n",
    "\n",
    "\n",
    "### 学習データ／テストデータに分割（分類問題、回帰問題で使用）\n",
    "\n",
    "# 学習データ／テストデータの分割処理\n",
    "def split_train_test(array):\n",
    "    length = len(array)\n",
    "    n_train = int(length * (1 - TEST_RATE))\n",
    "\n",
    "    indices = list(range(length))\n",
    "    np.random.shuffle(indices)\n",
    "    idx_train = indices[:n_train]\n",
    "    idx_test = indices[n_train:]\n",
    "\n",
    "    return sorted(array[idx_train]), sorted(array[idx_test])\n",
    "\n",
    "# インデックスリストを分割\n",
    "indices = np.arange(len(data_x))  # インデックス値のリスト\n",
    "idx_train, idx_test = split_train_test(indices)\n",
    "\n",
    "# 学習データ\n",
    "x_train = data_x[idx_train]\n",
    "y_train = data_vy[idx_train]\n",
    "\n",
    "# テストデータ\n",
    "x_test = data_x[idx_test]\n",
    "y_test = data_vy[idx_test]\n",
    "\n",
    "\n",
    "### グラフ描画\n",
    "\n",
    "# 分析対象点の散布図\n",
    "plt.scatter(data_x, data_vy, label='target')\n",
    "\n",
    "# 元の線を表示\n",
    "plt.plot(data_x, data_ty, linestyle=':', label='non noise curve') # 元の線を表示\n",
    "\n",
    "# x 軸 / y 軸の範囲を設定\n",
    "plt.xlim(x_min, x_max)\n",
    "plt.ylim(y_min, y_max)\n",
    "\n",
    "# 凡例の表示位置を指定\n",
    "plt.legend(bbox_to_anchor=(1.05, 1), loc='upper left', borderaxespad=0)\n",
    "\n",
    "# グラフを表示\n",
    "plt.show()"
   ]
  },
  {
   "cell_type": "markdown",
   "metadata": {},
   "source": [
    "### 1.5.3 分類問題\n",
    "用意したデータを原点から近い/遠いで2つのクラスに分け、さらに学習データとテストデータの計4種類に分割します。近い/遠いの両方の学習データで学習し、テストデータで分類器の性能を見ます。"
   ]
  },
  {
   "cell_type": "code",
   "execution_count": null,
   "metadata": {
    "collapsed": false
   },
   "outputs": [],
   "source": [
    "########################################\n",
    "#### 分類問題\n",
    "\n",
    "### 分類ラベル作成\n",
    "\n",
    "# クラスの閾値。原点からの半径\n",
    "CLASS_RADIUS = 0.6\n",
    "\n",
    "# 近い／遠いでクラス分け -- 近いと True, 遠いと False\n",
    "labels = (np.square(data_x) + np.square(data_vy)) < CLASS_RADIUS**2\n",
    "\n",
    "# 学習データ／テストデータに分割\n",
    "label_train = labels[idx_train]  # 学習データ\n",
    "label_test = labels[idx_test]  # テストデータ\n",
    "\n",
    "\n",
    "### グラフ描画\n",
    "\n",
    "plt.scatter(x_train[label_train], y_train[label_train], marker='v', label='near train')\n",
    "plt.scatter(x_train[label_train != True], y_train[label_train != True], marker='+', label='far train')\n",
    "\n",
    "plt.scatter(x_test[label_test], y_test[label_test], marker='^', label='near test')\n",
    "plt.scatter(x_test[label_test != True], y_test[label_test != True], marker='x', label='far test')\n",
    "\n",
    "# 元の線を表示\n",
    "plt.plot(data_x, data_ty, linestyle=':', label='non noise curve') # 元の線を表示\n",
    "\n",
    "# クラスの分離円\n",
    "circle  = plt.Circle((0,0), CLASS_RADIUS, alpha=0.1, label='near area')\n",
    "ax = plt.gca()\n",
    "ax.add_patch(circle)\n",
    "\n",
    "# x 軸 / y 軸の範囲を設定\n",
    "plt.xlim(x_min, x_max)  #X軸範囲設定\n",
    "plt.ylim(y_min, y_max)  #Y軸範囲設定\n",
    "\n",
    "# 凡例の表示位置を指定\n",
    "plt.legend(bbox_to_anchor=(1.05, 1), loc='upper left', borderaxespad=0)\n",
    "\n",
    "# グラフを表示\n",
    "plt.show()"
   ]
  },
  {
   "cell_type": "markdown",
   "metadata": {},
   "source": [
    "それでは分類を実行しましょう。"
   ]
  },
  {
   "cell_type": "code",
   "execution_count": null,
   "metadata": {
    "collapsed": false
   },
   "outputs": [],
   "source": [
    "### 学習\n",
    "\n",
    "from sklearn import svm\n",
    "from sklearn.metrics import confusion_matrix, accuracy_score\n",
    "\n",
    "data_train = np.c_[x_train, y_train]\n",
    "data_test = np.c_[x_test, y_test]\n",
    "\n",
    "# SVMの分類器を作成、学習\n",
    "classifier = svm.SVC(gamma=1) # SVMの分類器を生成\n",
    "classifier.fit(data_train, label_train.reshape(-1)) # 渡したデータに基いて学習を行う\n",
    "\n",
    "# Testデータで評価\n",
    "pred_test = classifier.predict(data_test) # 予測\n",
    "\n",
    "# Accuracyを表示\n",
    "print('accuracy_score:\\n', accuracy_score(label_test.reshape(-1), pred_test)) \n",
    "\n",
    "# 混同行列を表示\n",
    "print('Confusion matrix:\\n', confusion_matrix(label_test.reshape(-1), pred_test))"
   ]
  },
  {
   "cell_type": "markdown",
   "metadata": {},
   "source": [
    "___\n",
    "- 正答率(Accuracy)\n",
    "$$ \\frac{TP + TN}{TP + FP + FN + TN} $$  \n",
    "\n",
    "- 混同行列(Confusion Matrix)  \n",
    "\n",
    "\n",
    "|                |  　Positive (予測)   |   Negative (予測)    |\n",
    "|:---------------|:-------------------:|:-------------------:|\n",
    "| Positive (実際) | True Positive (TP)  | False Negative (FP) |\n",
    "| Negative (実際) | False Positvie (FP) | True Negative (TN)  |\n",
    "___"
   ]
  },
  {
   "cell_type": "markdown",
   "metadata": {},
   "source": [
    "### 1.5.4 回帰問題\n",
    "1次元（直線）、2次元、9次元の多項式で回帰させてみます。"
   ]
  },
  {
   "cell_type": "code",
   "execution_count": null,
   "metadata": {
    "collapsed": false
   },
   "outputs": [],
   "source": [
    "########################################\n",
    "#### 回帰問題\n",
    "\n",
    "from sklearn import linear_model\n",
    "\n",
    "\n",
    "### 1 次式で回帰\n",
    "\n",
    "# x 値\n",
    "X1_TRAIN = x_train\n",
    "X1_TEST  = x_test\n",
    "\n",
    "# 学習\n",
    "model = linear_model.LinearRegression()\n",
    "model.fit(X1_TRAIN, y_train)\n",
    "\n",
    "# グラフに描画\n",
    "plt.plot(x_test, model.predict(X1_TEST), linestyle='-.', label='poly deg 1')\n",
    "\n",
    "\n",
    "### 2 次式で回帰\n",
    "\n",
    "# x 値\n",
    "X2_TRAIN = np.c_[x_train**2, x_train]\n",
    "X2_TEST  = np.c_[x_test**2, x_test]\n",
    "\n",
    "# 学習\n",
    "model = linear_model.LinearRegression()\n",
    "model.fit(X2_TRAIN, y_train)\n",
    "\n",
    "# グラフに描画\n",
    "plt.plot(x_test, model.predict(X2_TEST), linestyle='--', label='poly deg 2')\n",
    "\n",
    "### 9 次式で回帰\n",
    "\n",
    "# x 値\n",
    "X9_TRAIN = np.c_[x_train**9, x_train**8, x_train**7, x_train**6, x_train**5,\n",
    "                 x_train**4, x_train**3, x_train**2, x_train]\n",
    "X9_TEST  = np.c_[x_test**9, x_test**8, x_test**7, x_test**6, x_test**5,\n",
    "                 x_test**4, x_test**3, x_test**2, x_test]\n",
    "# 学習\n",
    "model = linear_model.LinearRegression()\n",
    "model.fit(X9_TRAIN, y_train)\n",
    "\n",
    "# グラフに描画\n",
    "plt.plot(x_test, model.predict(X9_TEST), linestyle='-', label='poly deg 9')\n",
    "\n",
    "\n",
    "### データの表示\n",
    "\n",
    "plt.scatter(x_train, y_train, marker='v',label=\"train\")\n",
    "plt.scatter(x_test, y_test, marker='x',label=\"test\")\n",
    "\n",
    "# 元の線を表示\n",
    "plt.plot(data_x, data_ty, linestyle=':', label='non noise curve') # 元の線を表示\n",
    "\n",
    "# x 軸 / y 軸の範囲を設定\n",
    "plt.xlim(x_min, x_max)\n",
    "plt.ylim(y_min, y_max)\n",
    "\n",
    "# 凡例の表示位置を指定\n",
    "plt.legend(bbox_to_anchor=(1.05, 1), loc='upper left', borderaxespad=0)\n",
    "\n",
    "# グラフを表示\n",
    "plt.show()"
   ]
  },
  {
   "cell_type": "markdown",
   "metadata": {},
   "source": [
    "___"
   ]
  },
  {
   "cell_type": "markdown",
   "metadata": {},
   "source": [
    "### 1.5.5 クラスタリング\n",
    "データ作成時に分類は使用せず、データのみからクラスタを作成します。"
   ]
  },
  {
   "cell_type": "code",
   "execution_count": null,
   "metadata": {
    "collapsed": false
   },
   "outputs": [],
   "source": [
    "########################################\n",
    "#### クラスタリング\n",
    "\n",
    "from sklearn import cluster\n",
    "\n",
    "# x, y データを結合\n",
    "data = np.c_[data_x, data_vy]\n",
    "\n",
    "# 学習 → ３つのクラスタに分類\n",
    "model = cluster.KMeans(n_clusters=3)\n",
    "model.fit(data)\n",
    "\n",
    "# data の分類結果（0 ～ (n_clusters - 1) の番号が付けられている）\n",
    "labels = model.labels_\n",
    "\n",
    "plt.scatter(data_x[labels == 0], data_vy[labels == 0], marker='v', label='cluster 0')\n",
    "plt.scatter(data_x[labels == 1], data_vy[labels == 1], marker='x', label='cluster 1')\n",
    "plt.scatter(data_x[labels == 2], data_vy[labels == 2], marker='o', label='cluster 2')\n",
    "\n",
    "# 元の線を表示\n",
    "plt.plot(data_x, data_ty, linestyle=':', label='non noise curve') # 元の線を表示\n",
    "\n",
    "# x 軸 / y 軸の範囲を設定\n",
    "plt.xlim(x_min, x_max)\n",
    "plt.ylim(y_min, y_max)\n",
    "\n",
    "# 凡例の表示位置を指定\n",
    "plt.legend(bbox_to_anchor=(1.05, 1), loc='upper left', borderaxespad=0)\n",
    "\n",
    "# グラフを表示\n",
    "plt.show()"
   ]
  },
  {
   "cell_type": "markdown",
   "metadata": {},
   "source": [
    "おまけ 深層学習  \n",
    "<http://playground.tensorflow.org/>"
   ]
  },
  {
   "cell_type": "markdown",
   "metadata": {},
   "source": [
    "___"
   ]
  },
  {
   "cell_type": "markdown",
   "metadata": {},
   "source": [
    "## 第3章 基礎編\n",
    "## 3.1 分類問題とは\n",
    "教師あり学習の一つ。正解付きデータ（学習データ）によって学習することで、未知のデータを分類できるようになることを目指す。\n",
    "## 3.2 分類器\n",
    "### 3.2.1 digits データセット"
   ]
  },
  {
   "cell_type": "code",
   "execution_count": null,
   "metadata": {
    "collapsed": false
   },
   "outputs": [],
   "source": [
    "import matplotlib.pyplot as plt\n",
    "from sklearn import datasets\n",
    "\n",
    "# digits データをロード\n",
    "digits = datasets.load_digits()\n",
    "\n",
    "# 画像を 2 行 5 列に表示\n",
    "for label, img in zip(digits.target[:10], digits.images[:10]):\n",
    "    plt.subplot(2, 5, label + 1)\n",
    "    plt.axis('off')\n",
    "    plt.imshow(img, cmap=plt.cm.gray_r, interpolation='nearest')\n",
    "    plt.title('Digit: {0}'.format(label))\n",
    "    \n",
    "plt.show()"
   ]
  },
  {
   "cell_type": "markdown",
   "metadata": {
    "collapsed": true
   },
   "source": [
    "### 3.2.2 分類器を作って評価してみる\n",
    "3と8のデータを分類する分類器をscikit-learnで作ってみましょう。"
   ]
  },
  {
   "cell_type": "code",
   "execution_count": null,
   "metadata": {
    "collapsed": true
   },
   "outputs": [],
   "source": [
    "import matplotlib.pyplot as plt\n",
    "from sklearn import datasets\n",
    "\n",
    "# 手書き数字データの読み込み\n",
    "digits = datasets.load_digits()\n",
    "\n",
    "# 3 と 8 のデータ位置を求める\n",
    "flag_3_8 = (digits.target == 3) + (digits.target == 8)\n",
    "\n",
    "# 3 と 8 のデータを取得\n",
    "images = digits.images[flag_3_8]\n",
    "labels = digits.target[flag_3_8]\n",
    "\n",
    "# 3 と 8 の画像データを 1 次元化\n",
    "images = images.reshape(images.shape[0], -1)"
   ]
  },
  {
   "cell_type": "markdown",
   "metadata": {},
   "source": [
    "分類器を生成して学習を実施します。"
   ]
  },
  {
   "cell_type": "code",
   "execution_count": null,
   "metadata": {
    "collapsed": false
   },
   "outputs": [],
   "source": [
    "from sklearn import tree\n",
    "\n",
    "# 3 と 8 の画像データを 1 次元化\n",
    "images = images.reshape(images.shape[0], -1)\n",
    "\n",
    "# 分類器の生成\n",
    "n_samples = len(flag_3_8[flag_3_8])\n",
    "train_size = int(n_samples * 3 / 5)\n",
    "classifier = tree.DecisionTreeClassifier(max_depth=3)\n",
    "classifier.fit(images[:train_size], labels[:train_size])"
   ]
  },
  {
   "cell_type": "markdown",
   "metadata": {},
   "source": [
    "分類器の性能（正答率）を計算してみましょう。"
   ]
  },
  {
   "cell_type": "code",
   "execution_count": null,
   "metadata": {
    "collapsed": false
   },
   "outputs": [],
   "source": [
    "from sklearn import metrics\n",
    "\n",
    "expected = labels[train_size:]\n",
    "predicted = classifier.predict(images[train_size:])\n",
    "\n",
    "print('Accuracy:\\n',\n",
    "      metrics.accuracy_score(expected, predicted))"
   ]
  },
  {
   "cell_type": "markdown",
   "metadata": {},
   "source": [
    "#続きはまた来月"
   ]
  },
  {
   "cell_type": "code",
   "execution_count": null,
   "metadata": {
    "collapsed": true
   },
   "outputs": [],
   "source": []
  },
  {
   "cell_type": "code",
   "execution_count": null,
   "metadata": {
    "collapsed": true
   },
   "outputs": [],
   "source": []
  }
 ],
 "metadata": {
  "kernelspec": {
   "display_name": "Python 3",
   "language": "python",
   "name": "python3"
  },
  "language_info": {
   "codemirror_mode": {
    "name": "ipython",
    "version": 3
   },
   "file_extension": ".py",
   "mimetype": "text/x-python",
   "name": "python",
   "nbconvert_exporter": "python",
   "pygments_lexer": "ipython3",
   "version": "3.4.5"
  }
 },
 "nbformat": 4,
 "nbformat_minor": 0
}
